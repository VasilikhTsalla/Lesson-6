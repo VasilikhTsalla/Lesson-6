{
  "nbformat": 4,
  "nbformat_minor": 0,
  "metadata": {
    "colab": {
      "provenance": []
    },
    "kernelspec": {
      "name": "python3",
      "display_name": "Python 3"
    },
    "language_info": {
      "name": "python"
    }
  },
  "cells": [
    {
      "cell_type": "markdown",
      "source": [
        "# **Scraping με το newspaper3k**"
      ],
      "metadata": {
        "id": "7pzpozYbs3V9"
      }
    },
    {
      "cell_type": "markdown",
      "source": [
        "Scraping, είναι η διαδικασία με την οποία συλλέγουμε περιεχόμενο από ιστοσελίδες στο διαδίκτυο.\n",
        "\n",
        "Με όρους προγραμματισμού, η διαδικασία είναι η εξής:\n",
        "- κάνουμε ένα αίτημα στο server της ιστοσελίδας: ορίζουμε το url της ιστοσελίδας και ζητάμε το περιεχόμενό της (δηλαδή τον html κώδικά της)\n",
        "- κατεβάζουμε τον html κώδικα (στον οποίο το περιεχόμενο είναι οργανωμένο μέσα σε html tags)\n",
        "- παίρνουμε το περιεχόμενο από τα tags που μας ενδιαφέρουν και το αποθηκεύουμε σε αντίστοιχες μεταβλητές (π.χ. αν πρόκειται για δημοσιογραφικό άρθρο, παίρνουμε τον τίτλο του, το κείμενο, τον συγγραφέα, την ημερομηνία δημοσίευσής του κλπ.)\n",
        "\n",
        "Στη συνέχεια, μπορούμε να οργανώσουμε όλες τις πληροφορίες που συλλέξαμε σε ένα dataframe για να τις επεξεργαστούμε και να τις αναλύσουμε.\n",
        "\n",
        "Το **newspaper** είναι ένα πακέτο για την python, με το οποίο μπορούμε με εύκολο τρόπο να συλλέξουμε περιεχόμενο από ειδησεογραφικές ιστοσελίδες.\n",
        "\n",
        "\n",
        "\n",
        "---\n",
        "\n",
        "\n",
        "Sources:\n",
        "- Documentation: https://newspaper.readthedocs.io/en/latest/\n",
        "- Scraping websites with Newspaper3k in Python: https://www.geeksforgeeks.org/scraping-websites-with-newspaper3k-in-python/\n",
        "- Scrape and Summarize News Articles in 5 Lines of Python Code: https://towardsdatascience.com/scrape-and-summarize-news-articles-in-5-lines-of-python-code-175f0e5c7dfc"
      ],
      "metadata": {
        "id": "-qPvOZvmtFaF"
      }
    },
    {
      "cell_type": "markdown",
      "source": [
        "### **Εγκατάσταση πακέτου**"
      ],
      "metadata": {
        "id": "h9RcAOOdwd-o"
      }
    },
    {
      "cell_type": "markdown",
      "source": [
        "Ξέρουμε ότι για να μπορούμε να χρησιμοποιήσουμε τις συναρτήσεις ενός πακέτου πρέπει πρώτα να το εισάγουμε. "
      ],
      "metadata": {
        "id": "xyyVAHbuwpW2"
      }
    },
    {
      "cell_type": "code",
      "source": [
        "import newspaper"
      ],
      "metadata": {
        "id": "N3wpXcVFxTGm",
        "colab": {
          "base_uri": "https://localhost:8080/",
          "height": 304
        },
        "outputId": "b254ecd9-6c41-4abc-8787-dbd9a82ef4b6"
      },
      "execution_count": 1,
      "outputs": [
        {
          "output_type": "error",
          "ename": "ModuleNotFoundError",
          "evalue": "ignored",
          "traceback": [
            "\u001b[0;31m---------------------------------------------------------------------------\u001b[0m",
            "\u001b[0;31mModuleNotFoundError\u001b[0m                       Traceback (most recent call last)",
            "\u001b[0;32m<ipython-input-1-83b806c39519>\u001b[0m in \u001b[0;36m<cell line: 1>\u001b[0;34m()\u001b[0m\n\u001b[0;32m----> 1\u001b[0;31m \u001b[0;32mimport\u001b[0m \u001b[0mnewspaper\u001b[0m\u001b[0;34m\u001b[0m\u001b[0;34m\u001b[0m\u001b[0m\n\u001b[0m",
            "\u001b[0;31mModuleNotFoundError\u001b[0m: No module named 'newspaper'",
            "",
            "\u001b[0;31m---------------------------------------------------------------------------\u001b[0;32m\nNOTE: If your import is failing due to a missing package, you can\nmanually install dependencies using either !pip or !apt.\n\nTo view examples of installing some common dependencies, click the\n\"Open Examples\" button below.\n\u001b[0;31m---------------------------------------------------------------------------\u001b[0m\n"
          ],
          "errorDetails": {
            "actions": [
              {
                "action": "open_url",
                "actionText": "Open Examples",
                "url": "/notebooks/snippets/importing_libraries.ipynb"
              }
            ]
          }
        }
      ]
    },
    {
      "cell_type": "markdown",
      "source": [
        "Η εκτέλεση του παραπάνω import επέστρεψε ModuleNotFoundError, που σημαίνει ότι δεν βρέθηκε το πακέτο newspaper. Άρα πρέπει πρώτα να το εγκαταστήσουμε.\n",
        "\n",
        "Εκτελούμε την παρακάτω εντολή εγκατάστασης και **αφού εγκατασταθεί το μετατρέπουμε σε σχόλιο** (βάζοντας στην αρχή της εντολής #)."
      ],
      "metadata": {
        "id": "GlvjGeCIxcec"
      }
    },
    {
      "cell_type": "code",
      "source": [
        "#!pip install newspaper3k"
      ],
      "metadata": {
        "id": "60VAlormhbOS",
        "colab": {
          "base_uri": "https://localhost:8080/"
        },
        "outputId": "bf7d827d-eb55-4086-cab5-c5de668fddd6"
      },
      "execution_count": 2,
      "outputs": [
        {
          "output_type": "stream",
          "name": "stdout",
          "text": [
            "Looking in indexes: https://pypi.org/simple, https://us-python.pkg.dev/colab-wheels/public/simple/\n",
            "Collecting newspaper3k\n",
            "  Downloading newspaper3k-0.2.8-py3-none-any.whl (211 kB)\n",
            "\u001b[2K     \u001b[90m━━━━━━━━━━━━━━━━━━━━━━━━━━━━━━━━━━━━━━━\u001b[0m \u001b[32m211.1/211.1 kB\u001b[0m \u001b[31m6.5 MB/s\u001b[0m eta \u001b[36m0:00:00\u001b[0m\n",
            "\u001b[?25hRequirement already satisfied: beautifulsoup4>=4.4.1 in /usr/local/lib/python3.10/dist-packages (from newspaper3k) (4.11.2)\n",
            "Requirement already satisfied: Pillow>=3.3.0 in /usr/local/lib/python3.10/dist-packages (from newspaper3k) (8.4.0)\n",
            "Requirement already satisfied: PyYAML>=3.11 in /usr/local/lib/python3.10/dist-packages (from newspaper3k) (6.0)\n",
            "Collecting cssselect>=0.9.2 (from newspaper3k)\n",
            "  Downloading cssselect-1.2.0-py2.py3-none-any.whl (18 kB)\n",
            "Requirement already satisfied: lxml>=3.6.0 in /usr/local/lib/python3.10/dist-packages (from newspaper3k) (4.9.2)\n",
            "Requirement already satisfied: nltk>=3.2.1 in /usr/local/lib/python3.10/dist-packages (from newspaper3k) (3.8.1)\n",
            "Requirement already satisfied: requests>=2.10.0 in /usr/local/lib/python3.10/dist-packages (from newspaper3k) (2.27.1)\n",
            "Collecting feedparser>=5.2.1 (from newspaper3k)\n",
            "  Downloading feedparser-6.0.10-py3-none-any.whl (81 kB)\n",
            "\u001b[2K     \u001b[90m━━━━━━━━━━━━━━━━━━━━━━━━━━━━━━━━━━━━━━━━\u001b[0m \u001b[32m81.1/81.1 kB\u001b[0m \u001b[31m8.3 MB/s\u001b[0m eta \u001b[36m0:00:00\u001b[0m\n",
            "\u001b[?25hCollecting tldextract>=2.0.1 (from newspaper3k)\n",
            "  Downloading tldextract-3.4.4-py3-none-any.whl (93 kB)\n",
            "\u001b[2K     \u001b[90m━━━━━━━━━━━━━━━━━━━━━━━━━━━━━━━━━━━━━━━━\u001b[0m \u001b[32m93.3/93.3 kB\u001b[0m \u001b[31m9.6 MB/s\u001b[0m eta \u001b[36m0:00:00\u001b[0m\n",
            "\u001b[?25hCollecting feedfinder2>=0.0.4 (from newspaper3k)\n",
            "  Downloading feedfinder2-0.0.4.tar.gz (3.3 kB)\n",
            "  Preparing metadata (setup.py) ... \u001b[?25l\u001b[?25hdone\n",
            "Collecting jieba3k>=0.35.1 (from newspaper3k)\n",
            "  Downloading jieba3k-0.35.1.zip (7.4 MB)\n",
            "\u001b[2K     \u001b[90m━━━━━━━━━━━━━━━━━━━━━━━━━━━━━━━━━━━━━━━━\u001b[0m \u001b[32m7.4/7.4 MB\u001b[0m \u001b[31m63.7 MB/s\u001b[0m eta \u001b[36m0:00:00\u001b[0m\n",
            "\u001b[?25h  Preparing metadata (setup.py) ... \u001b[?25l\u001b[?25hdone\n",
            "Requirement already satisfied: python-dateutil>=2.5.3 in /usr/local/lib/python3.10/dist-packages (from newspaper3k) (2.8.2)\n",
            "Collecting tinysegmenter==0.3 (from newspaper3k)\n",
            "  Downloading tinysegmenter-0.3.tar.gz (16 kB)\n",
            "  Preparing metadata (setup.py) ... \u001b[?25l\u001b[?25hdone\n",
            "Requirement already satisfied: soupsieve>1.2 in /usr/local/lib/python3.10/dist-packages (from beautifulsoup4>=4.4.1->newspaper3k) (2.4.1)\n",
            "Requirement already satisfied: six in /usr/local/lib/python3.10/dist-packages (from feedfinder2>=0.0.4->newspaper3k) (1.16.0)\n",
            "Collecting sgmllib3k (from feedparser>=5.2.1->newspaper3k)\n",
            "  Downloading sgmllib3k-1.0.0.tar.gz (5.8 kB)\n",
            "  Preparing metadata (setup.py) ... \u001b[?25l\u001b[?25hdone\n",
            "Requirement already satisfied: click in /usr/local/lib/python3.10/dist-packages (from nltk>=3.2.1->newspaper3k) (8.1.3)\n",
            "Requirement already satisfied: joblib in /usr/local/lib/python3.10/dist-packages (from nltk>=3.2.1->newspaper3k) (1.2.0)\n",
            "Requirement already satisfied: regex>=2021.8.3 in /usr/local/lib/python3.10/dist-packages (from nltk>=3.2.1->newspaper3k) (2022.10.31)\n",
            "Requirement already satisfied: tqdm in /usr/local/lib/python3.10/dist-packages (from nltk>=3.2.1->newspaper3k) (4.65.0)\n",
            "Requirement already satisfied: urllib3<1.27,>=1.21.1 in /usr/local/lib/python3.10/dist-packages (from requests>=2.10.0->newspaper3k) (1.26.15)\n",
            "Requirement already satisfied: certifi>=2017.4.17 in /usr/local/lib/python3.10/dist-packages (from requests>=2.10.0->newspaper3k) (2022.12.7)\n",
            "Requirement already satisfied: charset-normalizer~=2.0.0 in /usr/local/lib/python3.10/dist-packages (from requests>=2.10.0->newspaper3k) (2.0.12)\n",
            "Requirement already satisfied: idna<4,>=2.5 in /usr/local/lib/python3.10/dist-packages (from requests>=2.10.0->newspaper3k) (3.4)\n",
            "Collecting requests-file>=1.4 (from tldextract>=2.0.1->newspaper3k)\n",
            "  Downloading requests_file-1.5.1-py2.py3-none-any.whl (3.7 kB)\n",
            "Requirement already satisfied: filelock>=3.0.8 in /usr/local/lib/python3.10/dist-packages (from tldextract>=2.0.1->newspaper3k) (3.12.0)\n",
            "Building wheels for collected packages: tinysegmenter, feedfinder2, jieba3k, sgmllib3k\n",
            "  Building wheel for tinysegmenter (setup.py) ... \u001b[?25l\u001b[?25hdone\n",
            "  Created wheel for tinysegmenter: filename=tinysegmenter-0.3-py3-none-any.whl size=13541 sha256=c60c5715af3d84e93f367d40f4d4221e53d84db892a0f13a6d9a48a32efcafc0\n",
            "  Stored in directory: /root/.cache/pip/wheels/c8/d6/6c/384f58df48c00b9a31d638005143b5b3ac62c3d25fb1447f23\n",
            "  Building wheel for feedfinder2 (setup.py) ... \u001b[?25l\u001b[?25hdone\n",
            "  Created wheel for feedfinder2: filename=feedfinder2-0.0.4-py3-none-any.whl size=3341 sha256=c6f09c8b93d83c3267021ef42f274bf12bbc08634e44981249c798055d0d9e82\n",
            "  Stored in directory: /root/.cache/pip/wheels/97/02/e7/a1ff1760e12bdbaab0ac824fae5c1bc933e41c4ccd6a8f8edb\n",
            "  Building wheel for jieba3k (setup.py) ... \u001b[?25l\u001b[?25hdone\n",
            "  Created wheel for jieba3k: filename=jieba3k-0.35.1-py3-none-any.whl size=7398382 sha256=e0235d5517212cab79754afc3446a5df40ddb3c4c1b45e178552ab235d23063b\n",
            "  Stored in directory: /root/.cache/pip/wheels/7a/c4/0c/12a9a314ecac499456c4c3b2fcc2f635a3b45a39dfbd240299\n",
            "  Building wheel for sgmllib3k (setup.py) ... \u001b[?25l\u001b[?25hdone\n",
            "  Created wheel for sgmllib3k: filename=sgmllib3k-1.0.0-py3-none-any.whl size=6046 sha256=c8a9940b35bcd8bb9c2761840c3f9600f52773872918fba55bd5cd79fd53c5f9\n",
            "  Stored in directory: /root/.cache/pip/wheels/f0/69/93/a47e9d621be168e9e33c7ce60524393c0b92ae83cf6c6e89c5\n",
            "Successfully built tinysegmenter feedfinder2 jieba3k sgmllib3k\n",
            "Installing collected packages: tinysegmenter, sgmllib3k, jieba3k, feedparser, cssselect, requests-file, feedfinder2, tldextract, newspaper3k\n",
            "Successfully installed cssselect-1.2.0 feedfinder2-0.0.4 feedparser-6.0.10 jieba3k-0.35.1 newspaper3k-0.2.8 requests-file-1.5.1 sgmllib3k-1.0.0 tinysegmenter-0.3 tldextract-3.4.4\n"
          ]
        }
      ]
    },
    {
      "cell_type": "markdown",
      "source": [
        "Τώρα μπορούμε να εισάγουμε το newspaper."
      ],
      "metadata": {
        "id": "TTICKEfSzGvR"
      }
    },
    {
      "cell_type": "markdown",
      "source": [
        "### **Χρήση του newspaper και συλλογή άρθρων**"
      ],
      "metadata": {
        "id": "c5oN2ONbwp1z"
      }
    },
    {
      "cell_type": "code",
      "execution_count": 3,
      "metadata": {
        "id": "tTMHjL80hGJV"
      },
      "outputs": [],
      "source": [
        "import newspaper"
      ]
    },
    {
      "cell_type": "markdown",
      "source": [
        "Όπως είπαμε παραπάνω, στην περιγραφή των βημάτων για το scraping, το πρώτο πράγμα που πρέπει να κάνουμε είναι να ορίσουμε το url της ειδησεογραφικής σελίδας από την οποία θα αντλήσουμε τα περιεχόμενα. \n",
        "\n",
        "Εδώ, θα συλλέξουμε άρθρα από την κατηγορία news του bbc."
      ],
      "metadata": {
        "id": "mgoh19vxzV30"
      }
    },
    {
      "cell_type": "code",
      "source": [
        "site_url = \"https://www.bbc.com/news\""
      ],
      "metadata": {
        "id": "tlJJGd8MzTDf"
      },
      "execution_count": 19,
      "outputs": []
    },
    {
      "cell_type": "code",
      "source": [
        "# get the content of the site\n",
        "site = newspaper.build(site_url, memoize_articles=False)"
      ],
      "metadata": {
        "id": "bgxehmmL0NpK",
        "colab": {
          "base_uri": "https://localhost:8080/"
        },
        "outputId": "314f556b-6930-4b31-845f-51f558fc104e"
      },
      "execution_count": 20,
      "outputs": [
        {
          "output_type": "stream",
          "name": "stderr",
          "text": [
            "CRITICAL:newspaper.network:[REQUEST FAILED] 404 Client Error: Not Found for url: https://www.bbc.co.uk/rss\n",
            "CRITICAL:newspaper.network:[REQUEST FAILED] 404 Client Error: Not Found for url: https://www.bbc.co.uk/feed\n",
            "CRITICAL:newspaper.network:[REQUEST FAILED] Exceeded 30 redirects.\n"
          ]
        }
      ]
    },
    {
      "cell_type": "code",
      "source": [
        "# get list of article URLs\n",
        "urlsL = site.article_urls()\n",
        "\n",
        "print(len(urlsL))\n",
        "# print the first 10 articles urls\n",
        "urlsL[:10]"
      ],
      "metadata": {
        "id": "6QJ60uM20bC0",
        "colab": {
          "base_uri": "https://localhost:8080/"
        },
        "outputId": "b1a96f00-b10a-4359-8ec0-a24227c6634f"
      },
      "execution_count": 21,
      "outputs": [
        {
          "output_type": "stream",
          "name": "stdout",
          "text": [
            "279\n"
          ]
        },
        {
          "output_type": "execute_result",
          "data": {
            "text/plain": [
              "['https://www.bbc.com/news/world-60525350',\n",
              " 'https://www.bbc.com/news/science-environment-56837908',\n",
              " 'https://www.bbc.com/news/av/10462520',\n",
              " 'https://www.bbc.com/news/world',\n",
              " 'https://www.bbc.com/news/world/us_and_canada',\n",
              " 'https://www.bbc.com/news/uk',\n",
              " 'https://www.bbc.com/news/business',\n",
              " 'https://www.bbc.com/news/technology',\n",
              " 'https://www.bbc.com/news/science_and_environment',\n",
              " 'https://www.bbc.com/news/stories']"
            ]
          },
          "metadata": {},
          "execution_count": 21
        }
      ]
    },
    {
      "cell_type": "markdown",
      "source": [
        "Έχουμε λοιπόν urls από το bbc.com/news.\n",
        "\n",
        "Τώρα, ας φέρουμε κάποια από τα άρθρα που υπάρχουν σε αυτά τα urls."
      ],
      "metadata": {
        "id": "skUSivSC1cPY"
      }
    },
    {
      "cell_type": "code",
      "source": [
        "# import libraries\n",
        "from newspaper import Article\n",
        "import pandas as pd\n",
        "import numpy as np"
      ],
      "metadata": {
        "id": "Y8xzCPcHljfd"
      },
      "execution_count": 22,
      "outputs": []
    },
    {
      "cell_type": "markdown",
      "source": [
        "Για αρχή, ας φέρουμε το περιεχόμενο μόνο ενός άρθρου από το πρώτο url"
      ],
      "metadata": {
        "id": "0jjEBiUF24En"
      }
    },
    {
      "cell_type": "code",
      "source": [
        "article = Article(urlsL[0])\n",
        "article.download()\n",
        "article.parse()"
      ],
      "metadata": {
        "id": "Eic_8Kkh3TDk"
      },
      "execution_count": 23,
      "outputs": []
    },
    {
      "cell_type": "markdown",
      "source": [
        "Με τις παραπάνω εντολές, έχουμε κατεβάσει το πρώτο άρθρο και τώρα μπορούμε να δούμε το περιεχόμενό του. Ας δούμε τι έχουμε:"
      ],
      "metadata": {
        "id": "cEMxKOOl32jY"
      }
    },
    {
      "cell_type": "code",
      "source": [
        "article.title"
      ],
      "metadata": {
        "id": "weBa_Gms4HdJ",
        "colab": {
          "base_uri": "https://localhost:8080/",
          "height": 37
        },
        "outputId": "83152e9d-53ab-48e8-94ea-c278d9425f9d"
      },
      "execution_count": 24,
      "outputs": [
        {
          "output_type": "execute_result",
          "data": {
            "text/plain": [
              "'War in Ukraine'"
            ],
            "application/vnd.google.colaboratory.intrinsic+json": {
              "type": "string"
            }
          },
          "metadata": {},
          "execution_count": 24
        }
      ]
    },
    {
      "cell_type": "code",
      "source": [
        "article.text"
      ],
      "metadata": {
        "id": "cxqSXG9Q4MWy",
        "colab": {
          "base_uri": "https://localhost:8080/",
          "height": 37
        },
        "outputId": "19ab1499-d0b5-40cc-818c-018f77ae64bc"
      },
      "execution_count": 25,
      "outputs": [
        {
          "output_type": "execute_result",
          "data": {
            "text/plain": [
              "'Military equipment is being sent to support Ukraine, but President Zelensky says more is needed to stop Russia.\\n\\nRead more next'"
            ],
            "application/vnd.google.colaboratory.intrinsic+json": {
              "type": "string"
            }
          },
          "metadata": {},
          "execution_count": 25
        }
      ]
    },
    {
      "cell_type": "code",
      "source": [
        "article.authors"
      ],
      "metadata": {
        "id": "SRFrQArf4P6W",
        "colab": {
          "base_uri": "https://localhost:8080/"
        },
        "outputId": "f39b8c73-8989-42e4-e05e-db9c72584d8a"
      },
      "execution_count": 26,
      "outputs": [
        {
          "output_type": "execute_result",
          "data": {
            "text/plain": [
              "[]"
            ]
          },
          "metadata": {},
          "execution_count": 26
        }
      ]
    },
    {
      "cell_type": "code",
      "source": [
        "article.top_image"
      ],
      "metadata": {
        "id": "fjkBZ0MitCn5",
        "colab": {
          "base_uri": "https://localhost:8080/",
          "height": 37
        },
        "outputId": "42e0f112-0990-43e6-904d-6f359a5cb2ec"
      },
      "execution_count": 27,
      "outputs": [
        {
          "output_type": "execute_result",
          "data": {
            "text/plain": [
              "'https://static.files.bbci.co.uk/ws/simorgh-assets/public/news/images/metadata/poster-1024x576.png'"
            ],
            "application/vnd.google.colaboratory.intrinsic+json": {
              "type": "string"
            }
          },
          "metadata": {},
          "execution_count": 27
        }
      ]
    },
    {
      "cell_type": "code",
      "source": [
        "article.images"
      ],
      "metadata": {
        "id": "aw3unUwy4UKu",
        "colab": {
          "base_uri": "https://localhost:8080/"
        },
        "outputId": "1d144656-6b41-40df-c62b-5d601c5d9991"
      },
      "execution_count": 28,
      "outputs": [
        {
          "output_type": "execute_result",
          "data": {
            "text/plain": [
              "{'data:image/gif;base64,R0lGODlhAQABAIAAAAAAAP///yH5BAEAAAAALAAAAAABAAEAAAIBRAA7',\n",
              " 'https://a1.api.bbc.co.uk/hit.xiti?&col=1&from=p&ptag=js&s=598253&p=unknown&x2=[responsive]&x3=[bbc_website]&x4=[en]&x7=[index-section]&x8=[reverb-3.6.1-nojs]&x11=[news_gnl]&x12=[news]',\n",
              " 'https://ichef.bbci.co.uk/live-experience/cps/320/cpsprodpb/07C4/production/_129788910_cc7ebd0608e23061d68e9622b5e5937ee602d915493_197_2469_13891000x563.jpg',\n",
              " 'https://ichef.bbci.co.uk/live-experience/cps/320/cpsprodpb/10D38/production/_129802986_belgorod-index.jpg',\n",
              " 'https://ichef.bbci.co.uk/live-experience/cps/320/cpsprodpb/10D7D/production/_129798986_moldovarally.jpg',\n",
              " 'https://ichef.bbci.co.uk/live-experience/cps/320/cpsprodpb/122DB/production/_129795447_mediaitem129795444.jpg',\n",
              " 'https://ichef.bbci.co.uk/live-experience/cps/320/cpsprodpb/1388/production/_129800050_zelensky_getty_21st_may.jpg',\n",
              " 'https://ichef.bbci.co.uk/live-experience/cps/320/cpsprodpb/14E7F/production/_128413658_tank_promo-nc.png',\n",
              " 'https://ichef.bbci.co.uk/live-experience/cps/320/cpsprodpb/14ECD/production/_129790758_gettyimages-1256368667.png',\n",
              " 'https://ichef.bbci.co.uk/live-experience/cps/320/cpsprodpb/158AF/production/_129793288_karimkhan.jpg',\n",
              " 'https://ichef.bbci.co.uk/live-experience/cps/320/cpsprodpb/16580/production/_129802519_mediaitem129802515.jpg',\n",
              " 'https://ichef.bbci.co.uk/live-experience/cps/320/cpsprodpb/2286/production/_129783880_russian_defenses_promo_976-nc.png',\n",
              " 'https://ichef.bbci.co.uk/live-experience/cps/320/cpsprodpb/3618/production/_128984831_gettyimages-1229810647.jpg',\n",
              " 'https://ichef.bbci.co.uk/live-experience/cps/320/cpsprodpb/3DAC/production/_129788751_ce4e9861910a3a940b98d2351f2df270c4e5b9fe.jpg',\n",
              " 'https://ichef.bbci.co.uk/live-experience/cps/320/cpsprodpb/4A0A/production/_129645981_230509_ukraine_bealebakhmut_013.jpg',\n",
              " 'https://ichef.bbci.co.uk/live-experience/cps/320/cpsprodpb/ABA2/production/_129783934_6acecfb52de2b11251b9b6aa73efff1806ba63180_0_1200_7541000x628.jpg',\n",
              " 'https://ichef.bbci.co.uk/live-experience/cps/320/cpsprodpb/AE40/production/_129780644_sunak-index-bbc.jpg',\n",
              " 'https://ichef.bbci.co.uk/live-experience/cps/320/cpsprodpb/CB6D/production/_129777025_gettyimages-825880144.jpg',\n",
              " 'https://ichef.bbci.co.uk/live-experience/cps/320/cpsprodpb/EAAE/production/_129787006_gettyimages-1471917211.jpg',\n",
              " 'https://ichef.bbci.co.uk/live-experience/cps/320/cpsprodpb/EF8E/production/_125662316_gettyimages-1143351798.jpg',\n",
              " 'https://ichef.bbci.co.uk/news/490/cpsprodpb/16580/production/_129802519_mediaitem129802515.jpg',\n",
              " 'https://sb.scorecardresearch.com/p?c1=2&c2=17986528&cs_ucfr=0&cv=2.0&cj=1',\n",
              " 'https://static.files.bbci.co.uk/ws/simorgh-assets/public/news/images/metadata/poster-1024x576.png',\n",
              " 'https://ychef.files.bbci.co.uk/width/320/p0fppytk.jpg'}"
            ]
          },
          "metadata": {},
          "execution_count": 28
        }
      ]
    },
    {
      "cell_type": "code",
      "source": [
        "article.movies"
      ],
      "metadata": {
        "id": "LNd6O8rz4YBO",
        "colab": {
          "base_uri": "https://localhost:8080/"
        },
        "outputId": "225abad0-5f5c-4732-abe1-b6baee0b28cb"
      },
      "execution_count": 29,
      "outputs": [
        {
          "output_type": "execute_result",
          "data": {
            "text/plain": [
              "[]"
            ]
          },
          "metadata": {},
          "execution_count": 29
        }
      ]
    },
    {
      "cell_type": "code",
      "source": [
        "article.publish_date"
      ],
      "metadata": {
        "id": "N6VWW4gkrchv"
      },
      "execution_count": 30,
      "outputs": []
    },
    {
      "cell_type": "markdown",
      "source": [
        "Αφού είδαμε ποιες πληροφορίες μπορούμε να πάρουμε για ένα url, ας φέρουμε αυτές τις πληροφορίες για τα 10 πρώτα urls κι ας τις οργανώσουμε σε ένα dataframe."
      ],
      "metadata": {
        "id": "t2OaEhP55Hnh"
      }
    },
    {
      "cell_type": "code",
      "source": [
        "articlesL = []\n",
        "for url in urlsL[:10]:\n",
        "  articleD = {}\n",
        "  article = Article(url)\n",
        "  article.download()\n",
        "  article.parse()\n",
        "  articleD['url'] = url\n",
        "  if article.publish_date is not None:\n",
        "    articleD['date'] = article.publish_date\n",
        "  else:\n",
        "    articleD['date'] = np.nan\n",
        "  if article.title is not None:\n",
        "    articleD['title'] = article.title\n",
        "  else:\n",
        "    articleD['title'] = np.nan\n",
        "  if article.top_image is not None:\n",
        "    articleD['top image'] = article.top_image\n",
        "  else:\n",
        "    articleD['top image'] = np.nan\n",
        "  if article.text is not None:\n",
        "    articleD['text'] = article.text\n",
        "  else:\n",
        "    articleD['text'] = np.nan\n",
        "  if article.authors is not None:\n",
        "    articleD['authors'] = article.authors\n",
        "  else:\n",
        "    articleD['authors'] = np.nan\n",
        "  if article.images is not None:\n",
        "    articleD['images'] = article.images\n",
        "  else:\n",
        "    articleD['images'] = np.nan\n",
        "  if article.movies is not None:\n",
        "    articleD['movies'] = article.movies\n",
        "  else:\n",
        "    articleD['movies'] = np.nan\n",
        "  articlesL.append(articleD)\n",
        "\n",
        "news_df = pd.DataFrame(articlesL)"
      ],
      "metadata": {
        "id": "3FrK7B2QhxR1"
      },
      "execution_count": 31,
      "outputs": []
    },
    {
      "cell_type": "code",
      "source": [
        "news_df"
      ],
      "metadata": {
        "id": "eFme0Bt2l2XQ",
        "colab": {
          "base_uri": "https://localhost:8080/",
          "height": 965
        },
        "outputId": "700c0832-5bc4-4948-db91-93cfc052a07f"
      },
      "execution_count": 32,
      "outputs": [
        {
          "output_type": "execute_result",
          "data": {
            "text/plain": [
              "                                                 url  date  \\\n",
              "0            https://www.bbc.com/news/world-60525350   NaN   \n",
              "1  https://www.bbc.com/news/science-environment-5...   NaN   \n",
              "2               https://www.bbc.com/news/av/10462520   NaN   \n",
              "3                     https://www.bbc.com/news/world   NaN   \n",
              "4       https://www.bbc.com/news/world/us_and_canada   NaN   \n",
              "5                        https://www.bbc.com/news/uk   NaN   \n",
              "6                  https://www.bbc.com/news/business   NaN   \n",
              "7                https://www.bbc.com/news/technology   NaN   \n",
              "8   https://www.bbc.com/news/science_and_environment   NaN   \n",
              "9                   https://www.bbc.com/news/stories   NaN   \n",
              "\n",
              "                   title                                          top image  \\\n",
              "0         War in Ukraine  https://static.files.bbci.co.uk/ws/simorgh-ass...   \n",
              "1               BBC News  https://static.files.bbci.co.uk/ws/simorgh-ass...   \n",
              "2  One-minute World News  https://ichef.bbci.co.uk/news/1024/branded_new...   \n",
              "3               BBC News  https://static.files.bbci.co.uk/ws/simorgh-ass...   \n",
              "4            US & Canada  https://static.files.bbci.co.uk/ws/simorgh-ass...   \n",
              "5               BBC News  https://static.files.bbci.co.uk/ws/simorgh-ass...   \n",
              "6               Business  https://static.files.bbci.co.uk/ws/simorgh-ass...   \n",
              "7             Technology  https://static.files.bbci.co.uk/ws/simorgh-ass...   \n",
              "8  Science & Environment  https://static.files.bbci.co.uk/ws/simorgh-ass...   \n",
              "9               BBC News  https://static.files.bbci.co.uk/ws/simorgh-ass...   \n",
              "\n",
              "                                                text authors  \\\n",
              "0  Military equipment is being sent to support Uk...      []   \n",
              "1  World likely to warm beyond key 1.5C limit by ...      []   \n",
              "2  Zelensky: For today, Bakhmut is only in our he...      []   \n",
              "3  Rohey Malick Lowe/Facbook Copyright: Rohey Mal...      []   \n",
              "4  Polls show about half of Democrats want the pa...      []   \n",
              "5  Mr Kelly, who has been in the role on an inter...      []   \n",
              "6  The Chinese-owned platform said the ban \"infri...      []   \n",
              "7  The telecoms giant plans to shed up to 40% of ...      []   \n",
              "8  The Ynysgain centre is set to be sold off next...      []   \n",
              "9  TikTok profits from livestreams of families be...      []   \n",
              "\n",
              "                                              images movies  \n",
              "0  {https://ichef.bbci.co.uk/live-experience/cps/...     []  \n",
              "1  {https://ichef.bbci.co.uk/live-experience/cps/...     []  \n",
              "2  {https://ichef.bbci.co.uk/images/ic/400xn/p0fp...     []  \n",
              "3  {https://ichef.bbci.co.uk/live-experience/cps/...     []  \n",
              "4  {https://ichef.bbci.co.uk/live-experience/cps/...     []  \n",
              "5  {https://ichef.bbci.co.uk/news/320/cpsprodpb/8...     []  \n",
              "6  {https://ichef.bbci.co.uk/live-experience/cps/...     []  \n",
              "7  {https://ichef.bbci.co.uk/live-experience/cps/...     []  \n",
              "8  {https://ichef.bbci.co.uk/live-experience/cps/...     []  \n",
              "9  {data:image/gif;base64,R0lGODlhAQABAIAAAAAAAP/...     []  "
            ],
            "text/html": [
              "\n",
              "  <div id=\"df-af655598-2c5d-4b13-9210-4464951f3897\">\n",
              "    <div class=\"colab-df-container\">\n",
              "      <div>\n",
              "<style scoped>\n",
              "    .dataframe tbody tr th:only-of-type {\n",
              "        vertical-align: middle;\n",
              "    }\n",
              "\n",
              "    .dataframe tbody tr th {\n",
              "        vertical-align: top;\n",
              "    }\n",
              "\n",
              "    .dataframe thead th {\n",
              "        text-align: right;\n",
              "    }\n",
              "</style>\n",
              "<table border=\"1\" class=\"dataframe\">\n",
              "  <thead>\n",
              "    <tr style=\"text-align: right;\">\n",
              "      <th></th>\n",
              "      <th>url</th>\n",
              "      <th>date</th>\n",
              "      <th>title</th>\n",
              "      <th>top image</th>\n",
              "      <th>text</th>\n",
              "      <th>authors</th>\n",
              "      <th>images</th>\n",
              "      <th>movies</th>\n",
              "    </tr>\n",
              "  </thead>\n",
              "  <tbody>\n",
              "    <tr>\n",
              "      <th>0</th>\n",
              "      <td>https://www.bbc.com/news/world-60525350</td>\n",
              "      <td>NaN</td>\n",
              "      <td>War in Ukraine</td>\n",
              "      <td>https://static.files.bbci.co.uk/ws/simorgh-ass...</td>\n",
              "      <td>Military equipment is being sent to support Uk...</td>\n",
              "      <td>[]</td>\n",
              "      <td>{https://ichef.bbci.co.uk/live-experience/cps/...</td>\n",
              "      <td>[]</td>\n",
              "    </tr>\n",
              "    <tr>\n",
              "      <th>1</th>\n",
              "      <td>https://www.bbc.com/news/science-environment-5...</td>\n",
              "      <td>NaN</td>\n",
              "      <td>BBC News</td>\n",
              "      <td>https://static.files.bbci.co.uk/ws/simorgh-ass...</td>\n",
              "      <td>World likely to warm beyond key 1.5C limit by ...</td>\n",
              "      <td>[]</td>\n",
              "      <td>{https://ichef.bbci.co.uk/live-experience/cps/...</td>\n",
              "      <td>[]</td>\n",
              "    </tr>\n",
              "    <tr>\n",
              "      <th>2</th>\n",
              "      <td>https://www.bbc.com/news/av/10462520</td>\n",
              "      <td>NaN</td>\n",
              "      <td>One-minute World News</td>\n",
              "      <td>https://ichef.bbci.co.uk/news/1024/branded_new...</td>\n",
              "      <td>Zelensky: For today, Bakhmut is only in our he...</td>\n",
              "      <td>[]</td>\n",
              "      <td>{https://ichef.bbci.co.uk/images/ic/400xn/p0fp...</td>\n",
              "      <td>[]</td>\n",
              "    </tr>\n",
              "    <tr>\n",
              "      <th>3</th>\n",
              "      <td>https://www.bbc.com/news/world</td>\n",
              "      <td>NaN</td>\n",
              "      <td>BBC News</td>\n",
              "      <td>https://static.files.bbci.co.uk/ws/simorgh-ass...</td>\n",
              "      <td>Rohey Malick Lowe/Facbook Copyright: Rohey Mal...</td>\n",
              "      <td>[]</td>\n",
              "      <td>{https://ichef.bbci.co.uk/live-experience/cps/...</td>\n",
              "      <td>[]</td>\n",
              "    </tr>\n",
              "    <tr>\n",
              "      <th>4</th>\n",
              "      <td>https://www.bbc.com/news/world/us_and_canada</td>\n",
              "      <td>NaN</td>\n",
              "      <td>US &amp; Canada</td>\n",
              "      <td>https://static.files.bbci.co.uk/ws/simorgh-ass...</td>\n",
              "      <td>Polls show about half of Democrats want the pa...</td>\n",
              "      <td>[]</td>\n",
              "      <td>{https://ichef.bbci.co.uk/live-experience/cps/...</td>\n",
              "      <td>[]</td>\n",
              "    </tr>\n",
              "    <tr>\n",
              "      <th>5</th>\n",
              "      <td>https://www.bbc.com/news/uk</td>\n",
              "      <td>NaN</td>\n",
              "      <td>BBC News</td>\n",
              "      <td>https://static.files.bbci.co.uk/ws/simorgh-ass...</td>\n",
              "      <td>Mr Kelly, who has been in the role on an inter...</td>\n",
              "      <td>[]</td>\n",
              "      <td>{https://ichef.bbci.co.uk/news/320/cpsprodpb/8...</td>\n",
              "      <td>[]</td>\n",
              "    </tr>\n",
              "    <tr>\n",
              "      <th>6</th>\n",
              "      <td>https://www.bbc.com/news/business</td>\n",
              "      <td>NaN</td>\n",
              "      <td>Business</td>\n",
              "      <td>https://static.files.bbci.co.uk/ws/simorgh-ass...</td>\n",
              "      <td>The Chinese-owned platform said the ban \"infri...</td>\n",
              "      <td>[]</td>\n",
              "      <td>{https://ichef.bbci.co.uk/live-experience/cps/...</td>\n",
              "      <td>[]</td>\n",
              "    </tr>\n",
              "    <tr>\n",
              "      <th>7</th>\n",
              "      <td>https://www.bbc.com/news/technology</td>\n",
              "      <td>NaN</td>\n",
              "      <td>Technology</td>\n",
              "      <td>https://static.files.bbci.co.uk/ws/simorgh-ass...</td>\n",
              "      <td>The telecoms giant plans to shed up to 40% of ...</td>\n",
              "      <td>[]</td>\n",
              "      <td>{https://ichef.bbci.co.uk/live-experience/cps/...</td>\n",
              "      <td>[]</td>\n",
              "    </tr>\n",
              "    <tr>\n",
              "      <th>8</th>\n",
              "      <td>https://www.bbc.com/news/science_and_environment</td>\n",
              "      <td>NaN</td>\n",
              "      <td>Science &amp; Environment</td>\n",
              "      <td>https://static.files.bbci.co.uk/ws/simorgh-ass...</td>\n",
              "      <td>The Ynysgain centre is set to be sold off next...</td>\n",
              "      <td>[]</td>\n",
              "      <td>{https://ichef.bbci.co.uk/live-experience/cps/...</td>\n",
              "      <td>[]</td>\n",
              "    </tr>\n",
              "    <tr>\n",
              "      <th>9</th>\n",
              "      <td>https://www.bbc.com/news/stories</td>\n",
              "      <td>NaN</td>\n",
              "      <td>BBC News</td>\n",
              "      <td>https://static.files.bbci.co.uk/ws/simorgh-ass...</td>\n",
              "      <td>TikTok profits from livestreams of families be...</td>\n",
              "      <td>[]</td>\n",
              "      <td>{data:image/gif;base64,R0lGODlhAQABAIAAAAAAAP/...</td>\n",
              "      <td>[]</td>\n",
              "    </tr>\n",
              "  </tbody>\n",
              "</table>\n",
              "</div>\n",
              "      <button class=\"colab-df-convert\" onclick=\"convertToInteractive('df-af655598-2c5d-4b13-9210-4464951f3897')\"\n",
              "              title=\"Convert this dataframe to an interactive table.\"\n",
              "              style=\"display:none;\">\n",
              "        \n",
              "  <svg xmlns=\"http://www.w3.org/2000/svg\" height=\"24px\"viewBox=\"0 0 24 24\"\n",
              "       width=\"24px\">\n",
              "    <path d=\"M0 0h24v24H0V0z\" fill=\"none\"/>\n",
              "    <path d=\"M18.56 5.44l.94 2.06.94-2.06 2.06-.94-2.06-.94-.94-2.06-.94 2.06-2.06.94zm-11 1L8.5 8.5l.94-2.06 2.06-.94-2.06-.94L8.5 2.5l-.94 2.06-2.06.94zm10 10l.94 2.06.94-2.06 2.06-.94-2.06-.94-.94-2.06-.94 2.06-2.06.94z\"/><path d=\"M17.41 7.96l-1.37-1.37c-.4-.4-.92-.59-1.43-.59-.52 0-1.04.2-1.43.59L10.3 9.45l-7.72 7.72c-.78.78-.78 2.05 0 2.83L4 21.41c.39.39.9.59 1.41.59.51 0 1.02-.2 1.41-.59l7.78-7.78 2.81-2.81c.8-.78.8-2.07 0-2.86zM5.41 20L4 18.59l7.72-7.72 1.47 1.35L5.41 20z\"/>\n",
              "  </svg>\n",
              "      </button>\n",
              "      \n",
              "  <style>\n",
              "    .colab-df-container {\n",
              "      display:flex;\n",
              "      flex-wrap:wrap;\n",
              "      gap: 12px;\n",
              "    }\n",
              "\n",
              "    .colab-df-convert {\n",
              "      background-color: #E8F0FE;\n",
              "      border: none;\n",
              "      border-radius: 50%;\n",
              "      cursor: pointer;\n",
              "      display: none;\n",
              "      fill: #1967D2;\n",
              "      height: 32px;\n",
              "      padding: 0 0 0 0;\n",
              "      width: 32px;\n",
              "    }\n",
              "\n",
              "    .colab-df-convert:hover {\n",
              "      background-color: #E2EBFA;\n",
              "      box-shadow: 0px 1px 2px rgba(60, 64, 67, 0.3), 0px 1px 3px 1px rgba(60, 64, 67, 0.15);\n",
              "      fill: #174EA6;\n",
              "    }\n",
              "\n",
              "    [theme=dark] .colab-df-convert {\n",
              "      background-color: #3B4455;\n",
              "      fill: #D2E3FC;\n",
              "    }\n",
              "\n",
              "    [theme=dark] .colab-df-convert:hover {\n",
              "      background-color: #434B5C;\n",
              "      box-shadow: 0px 1px 3px 1px rgba(0, 0, 0, 0.15);\n",
              "      filter: drop-shadow(0px 1px 2px rgba(0, 0, 0, 0.3));\n",
              "      fill: #FFFFFF;\n",
              "    }\n",
              "  </style>\n",
              "\n",
              "      <script>\n",
              "        const buttonEl =\n",
              "          document.querySelector('#df-af655598-2c5d-4b13-9210-4464951f3897 button.colab-df-convert');\n",
              "        buttonEl.style.display =\n",
              "          google.colab.kernel.accessAllowed ? 'block' : 'none';\n",
              "\n",
              "        async function convertToInteractive(key) {\n",
              "          const element = document.querySelector('#df-af655598-2c5d-4b13-9210-4464951f3897');\n",
              "          const dataTable =\n",
              "            await google.colab.kernel.invokeFunction('convertToInteractive',\n",
              "                                                     [key], {});\n",
              "          if (!dataTable) return;\n",
              "\n",
              "          const docLinkHtml = 'Like what you see? Visit the ' +\n",
              "            '<a target=\"_blank\" href=https://colab.research.google.com/notebooks/data_table.ipynb>data table notebook</a>'\n",
              "            + ' to learn more about interactive tables.';\n",
              "          element.innerHTML = '';\n",
              "          dataTable['output_type'] = 'display_data';\n",
              "          await google.colab.output.renderOutput(dataTable, element);\n",
              "          const docLink = document.createElement('div');\n",
              "          docLink.innerHTML = docLinkHtml;\n",
              "          element.appendChild(docLink);\n",
              "        }\n",
              "      </script>\n",
              "    </div>\n",
              "  </div>\n",
              "  "
            ]
          },
          "metadata": {},
          "execution_count": 32
        }
      ]
    },
    {
      "cell_type": "markdown",
      "source": [
        "Ολόκληρος ο κώδικας για να φέρουμε το περιεχόμενο των άρθρων από ένα site"
      ],
      "metadata": {
        "id": "kQkQf1jPn0Tp"
      }
    },
    {
      "cell_type": "code",
      "source": [
        "# define site url\n",
        "site_url = \"https://www.bbc.com/news\"\n",
        "# get the content of the site\n",
        "site = newspaper.build(site_url, memoize_articles=False)\n",
        "# get list of article URLs\n",
        "urlsL = site.article_urls()\n",
        "\n",
        "# get articles content (first 10)\n",
        "articlesL = []\n",
        "for url in urlsL[:10]:\n",
        "  articleD = {}\n",
        "  article = Article(url)\n",
        "  article.download()\n",
        "  article.parse()\n",
        "  articleD['url'] = url\n",
        "  if article.publish_date is not None:\n",
        "    articleD['date'] = article.publish_date\n",
        "  else:\n",
        "    articleD['date'] = np.nan\n",
        "  if article.title is not None:\n",
        "    articleD['title'] = article.title\n",
        "  else:\n",
        "    articleD['title'] = np.nan\n",
        "  if article.top_image is not None:\n",
        "    articleD['top image'] = article.top_image\n",
        "  else:\n",
        "    articleD['top image'] = np.nan\n",
        "  if article.text is not None:\n",
        "    articleD['text'] = article.text\n",
        "  else:\n",
        "    articleD['text'] = np.nan\n",
        "  if article.authors is not None:\n",
        "    articleD['authors'] = article.authors\n",
        "  else:\n",
        "    articleD['authors'] = np.nan\n",
        "  if article.images is not None:\n",
        "    articleD['images'] = article.images\n",
        "  else:\n",
        "    articleD['images'] = np.nan\n",
        "  if article.movies is not None:\n",
        "    articleD['movies'] = article.movies\n",
        "  else:\n",
        "    articleD['movies'] = np.nan\n",
        "  articlesL.append(articleD)\n",
        "\n",
        "news_df = pd.DataFrame(articlesL)"
      ],
      "metadata": {
        "id": "JOUZXyThnynY",
        "colab": {
          "base_uri": "https://localhost:8080/"
        },
        "outputId": "8b1f0aeb-bed0-40a5-e1d2-b8dff7171c2d"
      },
      "execution_count": 33,
      "outputs": [
        {
          "output_type": "stream",
          "name": "stderr",
          "text": [
            "CRITICAL:newspaper.network:[REQUEST FAILED] 404 Client Error: Not Found for url: https://www.bbc.co.uk/rss\n",
            "CRITICAL:newspaper.network:[REQUEST FAILED] 404 Client Error: Not Found for url: https://www.bbc.co.uk/feed\n",
            "CRITICAL:newspaper.network:[REQUEST FAILED] Exceeded 30 redirects.\n"
          ]
        }
      ]
    },
    {
      "cell_type": "markdown",
      "source": [
        "## **Άσκηση:** χρησιμοποιήστε τον παραπάνω κώδικα για να φτιάξετε ένα dataframe με άρθρα από το news247 και την efsyn."
      ],
      "metadata": {
        "id": "jgii90WQoFZN"
      }
    },
    {
      "cell_type": "markdown",
      "source": [
        "**news247**"
      ],
      "metadata": {
        "id": "clpJWDaHxw-l"
      }
    },
    {
      "cell_type": "code",
      "source": [
        "# define site url\n",
        "site_url = \"https://www.news247.gr/latest/\"\n",
        "# get the content of the site\n",
        "site = newspaper.build(site_url, memoize_articles=False)\n",
        "# get list of article URLs\n",
        "urlsL = site.article_urls()\n",
        "\n",
        "# get articles content (first 10)\n",
        "articlesL = []\n",
        "for url in urlsL[:10]:\n",
        "  articleD = {}\n",
        "  article = Article(url)\n",
        "  article.download()\n",
        "  article.parse()\n",
        "  articleD['url'] = url\n",
        "  if article.publish_date is not None:\n",
        "    articleD['date'] = article.publish_date\n",
        "  else:\n",
        "    articleD['date'] = np.nan\n",
        "  if article.title is not None:\n",
        "    articleD['title'] = article.title\n",
        "  else:\n",
        "    articleD['title'] = np.nan\n",
        "  if article.top_image is not None:\n",
        "    articleD['top image'] = article.top_image\n",
        "  else:\n",
        "    articleD['top image'] = np.nan\n",
        "  if article.text is not None:\n",
        "    articleD['text'] = article.text\n",
        "  else:\n",
        "    articleD['text'] = np.nan\n",
        "  if article.authors is not None:\n",
        "    articleD['authors'] = article.authors\n",
        "  else:\n",
        "    articleD['authors'] = np.nan\n",
        "  if article.images is not None:\n",
        "    articleD['images'] = article.images\n",
        "  else:\n",
        "    articleD['images'] = np.nan\n",
        "  if article.movies is not None:\n",
        "    articleD['movies'] = article.movies\n",
        "  else:\n",
        "    articleD['movies'] = np.nan\n",
        "  articlesL.append(articleD)\n",
        "\n",
        "news247_df = pd.DataFrame(articlesL)"
      ],
      "metadata": {
        "id": "Q8Y0KDndIbmB",
        "colab": {
          "base_uri": "https://localhost:8080/"
        },
        "outputId": "acc2f4c8-1bfa-4e39-9418-e96bd4c3411a"
      },
      "execution_count": 35,
      "outputs": [
        {
          "output_type": "stream",
          "name": "stderr",
          "text": [
            "CRITICAL:newspaper.network:[REQUEST FAILED] 404 Client Error: Not Found for url: https://www.news247.gr/rss\n",
            "CRITICAL:newspaper.network:[REQUEST FAILED] 404 Client Error: Not Found for url: https://www.news247.gr/feed\n",
            "CRITICAL:newspaper.network:[REQUEST FAILED] 404 Client Error: Not Found for url: https://www.news247.gr/feeds\n"
          ]
        }
      ]
    },
    {
      "cell_type": "code",
      "source": [
        "news247_df"
      ],
      "metadata": {
        "colab": {
          "base_uri": "https://localhost:8080/",
          "height": 1000
        },
        "id": "tFeIxQfD7nam",
        "outputId": "b9fdb50b-74f3-4a55-c567-e739f7e09421"
      },
      "execution_count": 36,
      "outputs": [
        {
          "output_type": "execute_result",
          "data": {
            "text/plain": [
              "                                                 url  \\\n",
              "0  https://www.news247.gr/ekloges/ekloges-2023-ti...   \n",
              "1  https://www.oneman.gr/food-drink/i-afthentiki-...   \n",
              "2  https://www.oneman.gr/originals/to-mousiko-sup...   \n",
              "3  https://www.oneman.gr/life/dolofonia-lampraki-...   \n",
              "4  https://www.ladylike.gr/women-today/cate-blanc...   \n",
              "5  https://www.ladylike.gr/celebrities/i-sia-kosi...   \n",
              "6  https://www.ladylike.gr/motherhood/kim-kardash...   \n",
              "7  https://www.ow.gr/living/xexna-to-fomo-kai-kal...   \n",
              "8  https://www.ow.gr/wellness/afti-i-apli-sinithe...   \n",
              "9  https://www.news247.gr/ekloges/ekloges-2023-po...   \n",
              "\n",
              "                       date  \\\n",
              "0                       NaT   \n",
              "1 2023-05-22 13:51:54+00:00   \n",
              "2 2023-05-22 12:09:15+00:00   \n",
              "3 2023-05-22 11:15:14+00:00   \n",
              "4 2023-05-22 13:55:55+00:00   \n",
              "5 2023-05-22 13:52:29+00:00   \n",
              "6 2023-05-22 12:48:48+00:00   \n",
              "7 2023-05-22 09:00:04+00:00   \n",
              "8 2023-05-22 08:30:14+00:00   \n",
              "9                       NaT   \n",
              "\n",
              "                                               title  \\\n",
              "0  Εκλογές 2023: Την Κυριακή η ορκωμοσία της νέας...   \n",
              "1  Η αυθεντική Paloma γνώρισε την αναγέννησή της ...   \n",
              "2  Το μουσικό supergroup των μεγάλων ονομάτων που...   \n",
              "3  Δολοφονία Λαμπράκη: Ένας τροχονόμος χάλασε τα ...   \n",
              "4  Cate Blanchett: Η ξυπόλυτη «διαμαρτυρία» της σ...   \n",
              "5  Η Σία Κοσιώνη όπως δεν την έχεις ξαναδεί: Σταυ...   \n",
              "6  Kim Kardashian: «Υπάρχουν βράδια που κλαίω μέχ...   \n",
              "7               ΞΕΧΝΑ ΤΟ FOMO ΚΑΙ ΚΑΛΩΣΟΡΙΣΕ ΤΟ JOMO   \n",
              "8    ΑΥΤΗ Η ΑΠΛΗ ΣΥΝΗΘΕΙΑ ΘΑ ΣΕ ΣΩΣΕΙ ΑΠΟ ΤΟ BURNOUT   \n",
              "9  Εκλογές 2023: Ποιοι celebrities μένουν εκτός Β...   \n",
              "\n",
              "                                           top image  \\\n",
              "0  https://www.news247.gr/img/7516/10052972/75400...   \n",
              "1     https://media.oneman.gr/onm-images/paloma2.jpg   \n",
              "2    https://media.oneman.gr/onm-images/loverdos.jpg   \n",
              "3       https://media.oneman.gr/onm-images/z-1-1.jpg   \n",
              "4  https://media.ladylike.gr/ldl-images/cate-blan...   \n",
              "5  https://media.ladylike.gr/ldl-images/siakosion...   \n",
              "6  https://media.ladylike.gr/ldl-images/kim-karda...   \n",
              "7     https://media.ow.gr/ow-images/2023/05/jomo.jpg   \n",
              "8  https://media.ow.gr/ow-images/2023/05/burnout-...   \n",
              "9  https://www.news247.gr/img/879/10052119/989000...   \n",
              "\n",
              "                                                text  \\\n",
              "0  Την Κυριακή 28 Μαΐου αναμένεται, σύμφωνα με πλ...   \n",
              "1  Την πρώτη φορά που θα πιεις Paloma θα γουρλώσε...   \n",
              "2  Μία από τις πολλές παραμέτρους των εκλογών της...   \n",
              "3  «Προσοχή, προσοχή. Εδώ βουλευτής Λαμπράκης. Σα...   \n",
              "4  Η Cate Blanchett έχει μια αναμφισβήτητα μια μο...   \n",
              "5  Οι πολιτικοί αρχηγοί και τα μέλη των κομμάτων,...   \n",
              "6  Κι όμως κυρία μου και η Kim Kardashian κλαίει....   \n",
              "7  Από το άγχος μήπως χάσαμε κάτι από όλα όσα συμ...   \n",
              "8  Μια κλινική ψυχολόγος μοιράζεται μια πρακτική ...   \n",
              "9  Οι εθνικές εκλογές 2023 έκρυβαν εκπλήξεις όσον...   \n",
              "\n",
              "                                             authors  \\\n",
              "0                                                 []   \n",
              "1   [Δημήτρης Κουπριτζιώτης, Δημητρης Κουπριτζιωτης]   \n",
              "2     [Κωνσταντίνος Αμπατζής, Κωνσταντινος Αμπατζης]   \n",
              "3                                                 []   \n",
              "4  [Πηνελόπη Μποσταντζόγλου, Πηνελοπη Μποσταντζογ...   \n",
              "5             [Μαρία Πετροπούλου, Μαρια Πετροπουλου]   \n",
              "6                     [Δέσποινα Δημά, Δεσποινα Δημα]   \n",
              "7  [Ν. Μπάκουλη, Μ. Γκόγκου, Δ. Βλαχάκη, Κ. Βασσά...   \n",
              "8  [Μ. Γκόγκου, Μ. Αντωνοπούλου, Ε. Ξενάκη, Κ. Σώ...   \n",
              "9                                                 []   \n",
              "\n",
              "                                              images  \\\n",
              "0  {https://media.ow.gr/ow-images/2023/05/burnout...   \n",
              "1  {https://media.oneman.gr/onm-images/ThreeCents...   \n",
              "2  {https://media.oneman.gr/onm-images/ekloges-1-...   \n",
              "3  {https://media.oneman.gr/onm-images/ypothesi-p...   \n",
              "4  {https://media.ladylike.gr/ldl-images/Pinelopi...   \n",
              "5  {https://media.ladylike.gr/ldl-images/Petropou...   \n",
              "6  {https://media.ladylike.gr/ldl-images/24Media-...   \n",
              "7  {https://media.ow.gr/ow-images/2021/11/ow-logo...   \n",
              "8  {https://media.ow.gr/ow-images/2023/05/burnout...   \n",
              "9  {https://www.news247.gr/img/879/10052119/98900...   \n",
              "\n",
              "                                        movies  \n",
              "0                                           []  \n",
              "1  [https://www.youtube.com/embed/ExzO7tMNzM4]  \n",
              "2  [https://www.youtube.com/embed/SSOXOd6iF5Q]  \n",
              "3  [https://www.youtube.com/embed/rHB28qfsV2w]  \n",
              "4                                           []  \n",
              "5                                           []  \n",
              "6                                           []  \n",
              "7                                           []  \n",
              "8                                           []  \n",
              "9                                           []  "
            ],
            "text/html": [
              "\n",
              "  <div id=\"df-204e3f05-ea46-4935-bb47-ebfd5a3f3ad1\">\n",
              "    <div class=\"colab-df-container\">\n",
              "      <div>\n",
              "<style scoped>\n",
              "    .dataframe tbody tr th:only-of-type {\n",
              "        vertical-align: middle;\n",
              "    }\n",
              "\n",
              "    .dataframe tbody tr th {\n",
              "        vertical-align: top;\n",
              "    }\n",
              "\n",
              "    .dataframe thead th {\n",
              "        text-align: right;\n",
              "    }\n",
              "</style>\n",
              "<table border=\"1\" class=\"dataframe\">\n",
              "  <thead>\n",
              "    <tr style=\"text-align: right;\">\n",
              "      <th></th>\n",
              "      <th>url</th>\n",
              "      <th>date</th>\n",
              "      <th>title</th>\n",
              "      <th>top image</th>\n",
              "      <th>text</th>\n",
              "      <th>authors</th>\n",
              "      <th>images</th>\n",
              "      <th>movies</th>\n",
              "    </tr>\n",
              "  </thead>\n",
              "  <tbody>\n",
              "    <tr>\n",
              "      <th>0</th>\n",
              "      <td>https://www.news247.gr/ekloges/ekloges-2023-ti...</td>\n",
              "      <td>NaT</td>\n",
              "      <td>Εκλογές 2023: Την Κυριακή η ορκωμοσία της νέας...</td>\n",
              "      <td>https://www.news247.gr/img/7516/10052972/75400...</td>\n",
              "      <td>Την Κυριακή 28 Μαΐου αναμένεται, σύμφωνα με πλ...</td>\n",
              "      <td>[]</td>\n",
              "      <td>{https://media.ow.gr/ow-images/2023/05/burnout...</td>\n",
              "      <td>[]</td>\n",
              "    </tr>\n",
              "    <tr>\n",
              "      <th>1</th>\n",
              "      <td>https://www.oneman.gr/food-drink/i-afthentiki-...</td>\n",
              "      <td>2023-05-22 13:51:54+00:00</td>\n",
              "      <td>Η αυθεντική Paloma γνώρισε την αναγέννησή της ...</td>\n",
              "      <td>https://media.oneman.gr/onm-images/paloma2.jpg</td>\n",
              "      <td>Την πρώτη φορά που θα πιεις Paloma θα γουρλώσε...</td>\n",
              "      <td>[Δημήτρης Κουπριτζιώτης, Δημητρης Κουπριτζιωτης]</td>\n",
              "      <td>{https://media.oneman.gr/onm-images/ThreeCents...</td>\n",
              "      <td>[https://www.youtube.com/embed/ExzO7tMNzM4]</td>\n",
              "    </tr>\n",
              "    <tr>\n",
              "      <th>2</th>\n",
              "      <td>https://www.oneman.gr/originals/to-mousiko-sup...</td>\n",
              "      <td>2023-05-22 12:09:15+00:00</td>\n",
              "      <td>Το μουσικό supergroup των μεγάλων ονομάτων που...</td>\n",
              "      <td>https://media.oneman.gr/onm-images/loverdos.jpg</td>\n",
              "      <td>Μία από τις πολλές παραμέτρους των εκλογών της...</td>\n",
              "      <td>[Κωνσταντίνος Αμπατζής, Κωνσταντινος Αμπατζης]</td>\n",
              "      <td>{https://media.oneman.gr/onm-images/ekloges-1-...</td>\n",
              "      <td>[https://www.youtube.com/embed/SSOXOd6iF5Q]</td>\n",
              "    </tr>\n",
              "    <tr>\n",
              "      <th>3</th>\n",
              "      <td>https://www.oneman.gr/life/dolofonia-lampraki-...</td>\n",
              "      <td>2023-05-22 11:15:14+00:00</td>\n",
              "      <td>Δολοφονία Λαμπράκη: Ένας τροχονόμος χάλασε τα ...</td>\n",
              "      <td>https://media.oneman.gr/onm-images/z-1-1.jpg</td>\n",
              "      <td>«Προσοχή, προσοχή. Εδώ βουλευτής Λαμπράκης. Σα...</td>\n",
              "      <td>[]</td>\n",
              "      <td>{https://media.oneman.gr/onm-images/ypothesi-p...</td>\n",
              "      <td>[https://www.youtube.com/embed/rHB28qfsV2w]</td>\n",
              "    </tr>\n",
              "    <tr>\n",
              "      <th>4</th>\n",
              "      <td>https://www.ladylike.gr/women-today/cate-blanc...</td>\n",
              "      <td>2023-05-22 13:55:55+00:00</td>\n",
              "      <td>Cate Blanchett: Η ξυπόλυτη «διαμαρτυρία» της σ...</td>\n",
              "      <td>https://media.ladylike.gr/ldl-images/cate-blan...</td>\n",
              "      <td>Η Cate Blanchett έχει μια αναμφισβήτητα μια μο...</td>\n",
              "      <td>[Πηνελόπη Μποσταντζόγλου, Πηνελοπη Μποσταντζογ...</td>\n",
              "      <td>{https://media.ladylike.gr/ldl-images/Pinelopi...</td>\n",
              "      <td>[]</td>\n",
              "    </tr>\n",
              "    <tr>\n",
              "      <th>5</th>\n",
              "      <td>https://www.ladylike.gr/celebrities/i-sia-kosi...</td>\n",
              "      <td>2023-05-22 13:52:29+00:00</td>\n",
              "      <td>Η Σία Κοσιώνη όπως δεν την έχεις ξαναδεί: Σταυ...</td>\n",
              "      <td>https://media.ladylike.gr/ldl-images/siakosion...</td>\n",
              "      <td>Οι πολιτικοί αρχηγοί και τα μέλη των κομμάτων,...</td>\n",
              "      <td>[Μαρία Πετροπούλου, Μαρια Πετροπουλου]</td>\n",
              "      <td>{https://media.ladylike.gr/ldl-images/Petropou...</td>\n",
              "      <td>[]</td>\n",
              "    </tr>\n",
              "    <tr>\n",
              "      <th>6</th>\n",
              "      <td>https://www.ladylike.gr/motherhood/kim-kardash...</td>\n",
              "      <td>2023-05-22 12:48:48+00:00</td>\n",
              "      <td>Kim Kardashian: «Υπάρχουν βράδια που κλαίω μέχ...</td>\n",
              "      <td>https://media.ladylike.gr/ldl-images/kim-karda...</td>\n",
              "      <td>Κι όμως κυρία μου και η Kim Kardashian κλαίει....</td>\n",
              "      <td>[Δέσποινα Δημά, Δεσποινα Δημα]</td>\n",
              "      <td>{https://media.ladylike.gr/ldl-images/24Media-...</td>\n",
              "      <td>[]</td>\n",
              "    </tr>\n",
              "    <tr>\n",
              "      <th>7</th>\n",
              "      <td>https://www.ow.gr/living/xexna-to-fomo-kai-kal...</td>\n",
              "      <td>2023-05-22 09:00:04+00:00</td>\n",
              "      <td>ΞΕΧΝΑ ΤΟ FOMO ΚΑΙ ΚΑΛΩΣΟΡΙΣΕ ΤΟ JOMO</td>\n",
              "      <td>https://media.ow.gr/ow-images/2023/05/jomo.jpg</td>\n",
              "      <td>Από το άγχος μήπως χάσαμε κάτι από όλα όσα συμ...</td>\n",
              "      <td>[Ν. Μπάκουλη, Μ. Γκόγκου, Δ. Βλαχάκη, Κ. Βασσά...</td>\n",
              "      <td>{https://media.ow.gr/ow-images/2021/11/ow-logo...</td>\n",
              "      <td>[]</td>\n",
              "    </tr>\n",
              "    <tr>\n",
              "      <th>8</th>\n",
              "      <td>https://www.ow.gr/wellness/afti-i-apli-sinithe...</td>\n",
              "      <td>2023-05-22 08:30:14+00:00</td>\n",
              "      <td>ΑΥΤΗ Η ΑΠΛΗ ΣΥΝΗΘΕΙΑ ΘΑ ΣΕ ΣΩΣΕΙ ΑΠΟ ΤΟ BURNOUT</td>\n",
              "      <td>https://media.ow.gr/ow-images/2023/05/burnout-...</td>\n",
              "      <td>Μια κλινική ψυχολόγος μοιράζεται μια πρακτική ...</td>\n",
              "      <td>[Μ. Γκόγκου, Μ. Αντωνοπούλου, Ε. Ξενάκη, Κ. Σώ...</td>\n",
              "      <td>{https://media.ow.gr/ow-images/2023/05/burnout...</td>\n",
              "      <td>[]</td>\n",
              "    </tr>\n",
              "    <tr>\n",
              "      <th>9</th>\n",
              "      <td>https://www.news247.gr/ekloges/ekloges-2023-po...</td>\n",
              "      <td>NaT</td>\n",
              "      <td>Εκλογές 2023: Ποιοι celebrities μένουν εκτός Β...</td>\n",
              "      <td>https://www.news247.gr/img/879/10052119/989000...</td>\n",
              "      <td>Οι εθνικές εκλογές 2023 έκρυβαν εκπλήξεις όσον...</td>\n",
              "      <td>[]</td>\n",
              "      <td>{https://www.news247.gr/img/879/10052119/98900...</td>\n",
              "      <td>[]</td>\n",
              "    </tr>\n",
              "  </tbody>\n",
              "</table>\n",
              "</div>\n",
              "      <button class=\"colab-df-convert\" onclick=\"convertToInteractive('df-204e3f05-ea46-4935-bb47-ebfd5a3f3ad1')\"\n",
              "              title=\"Convert this dataframe to an interactive table.\"\n",
              "              style=\"display:none;\">\n",
              "        \n",
              "  <svg xmlns=\"http://www.w3.org/2000/svg\" height=\"24px\"viewBox=\"0 0 24 24\"\n",
              "       width=\"24px\">\n",
              "    <path d=\"M0 0h24v24H0V0z\" fill=\"none\"/>\n",
              "    <path d=\"M18.56 5.44l.94 2.06.94-2.06 2.06-.94-2.06-.94-.94-2.06-.94 2.06-2.06.94zm-11 1L8.5 8.5l.94-2.06 2.06-.94-2.06-.94L8.5 2.5l-.94 2.06-2.06.94zm10 10l.94 2.06.94-2.06 2.06-.94-2.06-.94-.94-2.06-.94 2.06-2.06.94z\"/><path d=\"M17.41 7.96l-1.37-1.37c-.4-.4-.92-.59-1.43-.59-.52 0-1.04.2-1.43.59L10.3 9.45l-7.72 7.72c-.78.78-.78 2.05 0 2.83L4 21.41c.39.39.9.59 1.41.59.51 0 1.02-.2 1.41-.59l7.78-7.78 2.81-2.81c.8-.78.8-2.07 0-2.86zM5.41 20L4 18.59l7.72-7.72 1.47 1.35L5.41 20z\"/>\n",
              "  </svg>\n",
              "      </button>\n",
              "      \n",
              "  <style>\n",
              "    .colab-df-container {\n",
              "      display:flex;\n",
              "      flex-wrap:wrap;\n",
              "      gap: 12px;\n",
              "    }\n",
              "\n",
              "    .colab-df-convert {\n",
              "      background-color: #E8F0FE;\n",
              "      border: none;\n",
              "      border-radius: 50%;\n",
              "      cursor: pointer;\n",
              "      display: none;\n",
              "      fill: #1967D2;\n",
              "      height: 32px;\n",
              "      padding: 0 0 0 0;\n",
              "      width: 32px;\n",
              "    }\n",
              "\n",
              "    .colab-df-convert:hover {\n",
              "      background-color: #E2EBFA;\n",
              "      box-shadow: 0px 1px 2px rgba(60, 64, 67, 0.3), 0px 1px 3px 1px rgba(60, 64, 67, 0.15);\n",
              "      fill: #174EA6;\n",
              "    }\n",
              "\n",
              "    [theme=dark] .colab-df-convert {\n",
              "      background-color: #3B4455;\n",
              "      fill: #D2E3FC;\n",
              "    }\n",
              "\n",
              "    [theme=dark] .colab-df-convert:hover {\n",
              "      background-color: #434B5C;\n",
              "      box-shadow: 0px 1px 3px 1px rgba(0, 0, 0, 0.15);\n",
              "      filter: drop-shadow(0px 1px 2px rgba(0, 0, 0, 0.3));\n",
              "      fill: #FFFFFF;\n",
              "    }\n",
              "  </style>\n",
              "\n",
              "      <script>\n",
              "        const buttonEl =\n",
              "          document.querySelector('#df-204e3f05-ea46-4935-bb47-ebfd5a3f3ad1 button.colab-df-convert');\n",
              "        buttonEl.style.display =\n",
              "          google.colab.kernel.accessAllowed ? 'block' : 'none';\n",
              "\n",
              "        async function convertToInteractive(key) {\n",
              "          const element = document.querySelector('#df-204e3f05-ea46-4935-bb47-ebfd5a3f3ad1');\n",
              "          const dataTable =\n",
              "            await google.colab.kernel.invokeFunction('convertToInteractive',\n",
              "                                                     [key], {});\n",
              "          if (!dataTable) return;\n",
              "\n",
              "          const docLinkHtml = 'Like what you see? Visit the ' +\n",
              "            '<a target=\"_blank\" href=https://colab.research.google.com/notebooks/data_table.ipynb>data table notebook</a>'\n",
              "            + ' to learn more about interactive tables.';\n",
              "          element.innerHTML = '';\n",
              "          dataTable['output_type'] = 'display_data';\n",
              "          await google.colab.output.renderOutput(dataTable, element);\n",
              "          const docLink = document.createElement('div');\n",
              "          docLink.innerHTML = docLinkHtml;\n",
              "          element.appendChild(docLink);\n",
              "        }\n",
              "      </script>\n",
              "    </div>\n",
              "  </div>\n",
              "  "
            ]
          },
          "metadata": {},
          "execution_count": 36
        }
      ]
    },
    {
      "cell_type": "markdown",
      "source": [
        "**efsyn**"
      ],
      "metadata": {
        "id": "8kOGVDD5xfYs"
      }
    },
    {
      "cell_type": "code",
      "source": [],
      "metadata": {
        "id": "z3NlHyG6IeKY"
      },
      "execution_count": null,
      "outputs": []
    },
    {
      "cell_type": "code",
      "source": [
        "# define site url\n",
        "site_url = \"https://www.efsyn.gr/news\"\n",
        "# get the content of the site\n",
        "site = newspaper.build(site_url, memoize_articles=False)\n",
        "# get list of article URLs\n",
        "urlsL = site.article_urls()\n",
        "\n",
        "# get articles content (first 10)\n",
        "articlesL = []\n",
        "for url in urlsL[:10]:\n",
        "  articleD = {}\n",
        "  article = Article(url)\n",
        "  article.download()\n",
        "  article.parse()\n",
        "  articleD['url'] = url\n",
        "  if article.publish_date is not None:\n",
        "    articleD['date'] = article.publish_date\n",
        "  else:\n",
        "    articleD['date'] = np.nan\n",
        "  if article.title is not None:\n",
        "    articleD['title'] = article.title\n",
        "  else:\n",
        "    articleD['title'] = np.nan\n",
        "  if article.top_image is not None:\n",
        "    articleD['top image'] = article.top_image\n",
        "  else:\n",
        "    articleD['top image'] = np.nan\n",
        "  if article.text is not None:\n",
        "    articleD['text'] = article.text\n",
        "  else:\n",
        "    articleD['text'] = np.nan\n",
        "  if article.authors is not None:\n",
        "    articleD['authors'] = article.authors\n",
        "  else:\n",
        "    articleD['authors'] = np.nan\n",
        "  if article.images is not None:\n",
        "    articleD['images'] = article.images\n",
        "  else:\n",
        "    articleD['images'] = np.nan\n",
        "  if article.movies is not None:\n",
        "    articleD['movies'] = article.movies\n",
        "  else:\n",
        "    articleD['movies'] = np.nan\n",
        "  articlesL.append(articleD)\n",
        "\n",
        "newsefsyn_df = pd.DataFrame(articlesL)"
      ],
      "metadata": {
        "colab": {
          "base_uri": "https://localhost:8080/"
        },
        "outputId": "a245677b-f16e-4a4b-fa89-46fb1281dd41",
        "id": "mm6IIgM37vI0"
      },
      "execution_count": 37,
      "outputs": [
        {
          "output_type": "stream",
          "name": "stderr",
          "text": [
            "CRITICAL:newspaper.network:[REQUEST FAILED] 404 Client Error: Not Found for url: https://www.efsyn.gr/feed\n",
            "CRITICAL:newspaper.network:[REQUEST FAILED] 404 Client Error: Not Found for url: https://www.efsyn.gr/rss\n",
            "CRITICAL:newspaper.network:[REQUEST FAILED] 404 Client Error: Not Found for url: https://www.efsyn.gr/feeds\n"
          ]
        }
      ]
    },
    {
      "cell_type": "code",
      "source": [
        "newsefsyn_df"
      ],
      "metadata": {
        "id": "iaB3-m9K79dW",
        "outputId": "eddf9913-74c5-466f-ac00-9e6a79330d23",
        "colab": {
          "base_uri": "https://localhost:8080/",
          "height": 1000
        }
      },
      "execution_count": 38,
      "outputs": [
        {
          "output_type": "execute_result",
          "data": {
            "text/plain": [
              "                                                 url  date  \\\n",
              "0                  https://www.efsyn.gr/tehnes/media   NaN   \n",
              "1  https://www.efsyn.gr/tehnes/art-nea/390807_pet...   NaN   \n",
              "2  https://www.efsyn.gr/kosmos/eyropi/390806_xana...   NaN   \n",
              "3  https://www.efsyn.gr/athlitismos/podosfairo/39...   NaN   \n",
              "4  https://www.efsyn.gr/kosmos/eyropi/390804_maha...   NaN   \n",
              "5  https://www.efsyn.gr/efsyn-city/synantiseis/39...   NaN   \n",
              "6  https://www.efsyn.gr/politiki/antipoliteysi/39...   NaN   \n",
              "7  https://www.efsyn.gr/politiki/antipoliteysi/39...   NaN   \n",
              "8  https://www.efsyn.gr/ellada/dikaiomata/390799_...   NaN   \n",
              "9  https://www.efsyn.gr/kosmos/eyropi/390798_diox...   NaN   \n",
              "\n",
              "                                               title  \\\n",
              "0                                              Media   \n",
              "1         Πέθανε ο ηθοποιός του «Thor» Ρέι Στίβενσον   \n",
              "2  Ξανά σε αναζήτηση της μικρής Μαντλίν οι πορτογ...   \n",
              "3  Αφαίρεση 10 βαθμών στη Γιουβέντους για παρατυπ...   \n",
              "4  Μαχαίρωσε δύο γυναίκες μέσα σε νοσοκομείο της ...   \n",
              "5  Ένα καλοκαίρι μόνο με μουσική: Ο χάρτης με τις...   \n",
              "6  Βαριά η ήττα, αλλά ωραίος ο αγώνας που ξεκίνησ...   \n",
              "7  Αποτιμούν και προχωρούν στον ΣΥΡΙΖΑ με το βλέμ...   \n",
              "8  Colour Youth: Μούδιασμα και αβεβαιότητα για το...   \n",
              "9  Δίωξη κατά τεσσάρων στη Γερμανία για πώληση λο...   \n",
              "\n",
              "                                           top image  \\\n",
              "0  https://www.efsyn.gr/themes/custom/efsyn/image...   \n",
              "1  https://www.efsyn.gr/sites/default/files/style...   \n",
              "2  https://www.efsyn.gr/sites/default/files/style...   \n",
              "3  https://www.efsyn.gr/sites/default/files/style...   \n",
              "4  https://www.efsyn.gr/sites/default/files/style...   \n",
              "5  https://www.efsyn.gr/sites/default/files/style...   \n",
              "6  https://www.efsyn.gr/sites/default/files/style...   \n",
              "7  https://www.efsyn.gr/sites/default/files/style...   \n",
              "8  https://www.efsyn.gr/sites/default/files/style...   \n",
              "9  https://www.efsyn.gr/sites/default/files/style...   \n",
              "\n",
              "                                                text authors  \\\n",
              "0  MEDIA Ο διεθνής Τύπος για το αποτέλεσμα των βο...      []   \n",
              "1  efsyn.gr\\n\\nΣε ηλικία 58 ετών έφυγε από τη ζωή...      []   \n",
              "2  efsyn.gr\\n\\nΤην πραγματοποίηση ερευνών κοντά σ...      []   \n",
              "3  efsyn.gr\\n\\n«Καμπάνα» για τη Γιουβέντους και α...      []   \n",
              "4  efsyn.gr\\n\\nΕπίθεση με μαχαίρι μέσα σε νοσοκομ...      []   \n",
              "5  Βγάζουμε ημερολόγια και ατζέντες, τσεκάρουμε η...      []   \n",
              "6  efsyn.gr\\n\\nΑποτίμηση του εκλογικού αποτελέσμα...      []   \n",
              "7  efsyn.gr\\n\\n«Παρών» δηλώνει ο Αλ. Τσίπρας • Οι...      []   \n",
              "8  efsyn.gr\\n\\nΜούδιασμα και αβεβαιότητα προκαλεί...      []   \n",
              "9  efsyn.gr\\n\\nΚατηγορίες απαγγέλθηκαν κατά τεσσά...      []   \n",
              "\n",
              "                                              images  \\\n",
              "0  {https://www.efsyn.gr/sites/default/files/styl...   \n",
              "1  {https://www.efsyn.gr/sites/default/files/styl...   \n",
              "2  {https://www.efsyn.gr/sites/default/files/styl...   \n",
              "3  {https://www.efsyn.gr/sites/default/files/styl...   \n",
              "4  {data:image/gif;base64,R0lGODlhAQABAIAAAAAAAP/...   \n",
              "5  {data:image/gif;base64,R0lGODlhAQABAIAAAAAAAP/...   \n",
              "6  {https://www.efsyn.gr/sites/default/files/styl...   \n",
              "7  {https://www.efsyn.gr/sites/default/files/styl...   \n",
              "8  {data:image/gif;base64,R0lGODlhAQABAIAAAAAAAP/...   \n",
              "9  {data:image/gif;base64,R0lGODlhAQABAIAAAAAAAP/...   \n",
              "\n",
              "                                              movies  \n",
              "0                                                 []  \n",
              "1  [https://www.youtube.com/embed/WCT4MaenCPE?rel...  \n",
              "2                                                 []  \n",
              "3                                                 []  \n",
              "4                                                 []  \n",
              "5                                                 []  \n",
              "6                                                 []  \n",
              "7  [https://www.youtube.com/embed/lpUc10XVFSY?rel...  \n",
              "8                                                 []  \n",
              "9                                                 []  "
            ],
            "text/html": [
              "\n",
              "  <div id=\"df-8f47905b-54aa-434e-ad4f-d3bfc57fece3\">\n",
              "    <div class=\"colab-df-container\">\n",
              "      <div>\n",
              "<style scoped>\n",
              "    .dataframe tbody tr th:only-of-type {\n",
              "        vertical-align: middle;\n",
              "    }\n",
              "\n",
              "    .dataframe tbody tr th {\n",
              "        vertical-align: top;\n",
              "    }\n",
              "\n",
              "    .dataframe thead th {\n",
              "        text-align: right;\n",
              "    }\n",
              "</style>\n",
              "<table border=\"1\" class=\"dataframe\">\n",
              "  <thead>\n",
              "    <tr style=\"text-align: right;\">\n",
              "      <th></th>\n",
              "      <th>url</th>\n",
              "      <th>date</th>\n",
              "      <th>title</th>\n",
              "      <th>top image</th>\n",
              "      <th>text</th>\n",
              "      <th>authors</th>\n",
              "      <th>images</th>\n",
              "      <th>movies</th>\n",
              "    </tr>\n",
              "  </thead>\n",
              "  <tbody>\n",
              "    <tr>\n",
              "      <th>0</th>\n",
              "      <td>https://www.efsyn.gr/tehnes/media</td>\n",
              "      <td>NaN</td>\n",
              "      <td>Media</td>\n",
              "      <td>https://www.efsyn.gr/themes/custom/efsyn/image...</td>\n",
              "      <td>MEDIA Ο διεθνής Τύπος για το αποτέλεσμα των βο...</td>\n",
              "      <td>[]</td>\n",
              "      <td>{https://www.efsyn.gr/sites/default/files/styl...</td>\n",
              "      <td>[]</td>\n",
              "    </tr>\n",
              "    <tr>\n",
              "      <th>1</th>\n",
              "      <td>https://www.efsyn.gr/tehnes/art-nea/390807_pet...</td>\n",
              "      <td>NaN</td>\n",
              "      <td>Πέθανε ο ηθοποιός του «Thor» Ρέι Στίβενσον</td>\n",
              "      <td>https://www.efsyn.gr/sites/default/files/style...</td>\n",
              "      <td>efsyn.gr\\n\\nΣε ηλικία 58 ετών έφυγε από τη ζωή...</td>\n",
              "      <td>[]</td>\n",
              "      <td>{https://www.efsyn.gr/sites/default/files/styl...</td>\n",
              "      <td>[https://www.youtube.com/embed/WCT4MaenCPE?rel...</td>\n",
              "    </tr>\n",
              "    <tr>\n",
              "      <th>2</th>\n",
              "      <td>https://www.efsyn.gr/kosmos/eyropi/390806_xana...</td>\n",
              "      <td>NaN</td>\n",
              "      <td>Ξανά σε αναζήτηση της μικρής Μαντλίν οι πορτογ...</td>\n",
              "      <td>https://www.efsyn.gr/sites/default/files/style...</td>\n",
              "      <td>efsyn.gr\\n\\nΤην πραγματοποίηση ερευνών κοντά σ...</td>\n",
              "      <td>[]</td>\n",
              "      <td>{https://www.efsyn.gr/sites/default/files/styl...</td>\n",
              "      <td>[]</td>\n",
              "    </tr>\n",
              "    <tr>\n",
              "      <th>3</th>\n",
              "      <td>https://www.efsyn.gr/athlitismos/podosfairo/39...</td>\n",
              "      <td>NaN</td>\n",
              "      <td>Αφαίρεση 10 βαθμών στη Γιουβέντους για παρατυπ...</td>\n",
              "      <td>https://www.efsyn.gr/sites/default/files/style...</td>\n",
              "      <td>efsyn.gr\\n\\n«Καμπάνα» για τη Γιουβέντους και α...</td>\n",
              "      <td>[]</td>\n",
              "      <td>{https://www.efsyn.gr/sites/default/files/styl...</td>\n",
              "      <td>[]</td>\n",
              "    </tr>\n",
              "    <tr>\n",
              "      <th>4</th>\n",
              "      <td>https://www.efsyn.gr/kosmos/eyropi/390804_maha...</td>\n",
              "      <td>NaN</td>\n",
              "      <td>Μαχαίρωσε δύο γυναίκες μέσα σε νοσοκομείο της ...</td>\n",
              "      <td>https://www.efsyn.gr/sites/default/files/style...</td>\n",
              "      <td>efsyn.gr\\n\\nΕπίθεση με μαχαίρι μέσα σε νοσοκομ...</td>\n",
              "      <td>[]</td>\n",
              "      <td>{data:image/gif;base64,R0lGODlhAQABAIAAAAAAAP/...</td>\n",
              "      <td>[]</td>\n",
              "    </tr>\n",
              "    <tr>\n",
              "      <th>5</th>\n",
              "      <td>https://www.efsyn.gr/efsyn-city/synantiseis/39...</td>\n",
              "      <td>NaN</td>\n",
              "      <td>Ένα καλοκαίρι μόνο με μουσική: Ο χάρτης με τις...</td>\n",
              "      <td>https://www.efsyn.gr/sites/default/files/style...</td>\n",
              "      <td>Βγάζουμε ημερολόγια και ατζέντες, τσεκάρουμε η...</td>\n",
              "      <td>[]</td>\n",
              "      <td>{data:image/gif;base64,R0lGODlhAQABAIAAAAAAAP/...</td>\n",
              "      <td>[]</td>\n",
              "    </tr>\n",
              "    <tr>\n",
              "      <th>6</th>\n",
              "      <td>https://www.efsyn.gr/politiki/antipoliteysi/39...</td>\n",
              "      <td>NaN</td>\n",
              "      <td>Βαριά η ήττα, αλλά ωραίος ο αγώνας που ξεκίνησ...</td>\n",
              "      <td>https://www.efsyn.gr/sites/default/files/style...</td>\n",
              "      <td>efsyn.gr\\n\\nΑποτίμηση του εκλογικού αποτελέσμα...</td>\n",
              "      <td>[]</td>\n",
              "      <td>{https://www.efsyn.gr/sites/default/files/styl...</td>\n",
              "      <td>[]</td>\n",
              "    </tr>\n",
              "    <tr>\n",
              "      <th>7</th>\n",
              "      <td>https://www.efsyn.gr/politiki/antipoliteysi/39...</td>\n",
              "      <td>NaN</td>\n",
              "      <td>Αποτιμούν και προχωρούν στον ΣΥΡΙΖΑ με το βλέμ...</td>\n",
              "      <td>https://www.efsyn.gr/sites/default/files/style...</td>\n",
              "      <td>efsyn.gr\\n\\n«Παρών» δηλώνει ο Αλ. Τσίπρας • Οι...</td>\n",
              "      <td>[]</td>\n",
              "      <td>{https://www.efsyn.gr/sites/default/files/styl...</td>\n",
              "      <td>[https://www.youtube.com/embed/lpUc10XVFSY?rel...</td>\n",
              "    </tr>\n",
              "    <tr>\n",
              "      <th>8</th>\n",
              "      <td>https://www.efsyn.gr/ellada/dikaiomata/390799_...</td>\n",
              "      <td>NaN</td>\n",
              "      <td>Colour Youth: Μούδιασμα και αβεβαιότητα για το...</td>\n",
              "      <td>https://www.efsyn.gr/sites/default/files/style...</td>\n",
              "      <td>efsyn.gr\\n\\nΜούδιασμα και αβεβαιότητα προκαλεί...</td>\n",
              "      <td>[]</td>\n",
              "      <td>{data:image/gif;base64,R0lGODlhAQABAIAAAAAAAP/...</td>\n",
              "      <td>[]</td>\n",
              "    </tr>\n",
              "    <tr>\n",
              "      <th>9</th>\n",
              "      <td>https://www.efsyn.gr/kosmos/eyropi/390798_diox...</td>\n",
              "      <td>NaN</td>\n",
              "      <td>Δίωξη κατά τεσσάρων στη Γερμανία για πώληση λο...</td>\n",
              "      <td>https://www.efsyn.gr/sites/default/files/style...</td>\n",
              "      <td>efsyn.gr\\n\\nΚατηγορίες απαγγέλθηκαν κατά τεσσά...</td>\n",
              "      <td>[]</td>\n",
              "      <td>{data:image/gif;base64,R0lGODlhAQABAIAAAAAAAP/...</td>\n",
              "      <td>[]</td>\n",
              "    </tr>\n",
              "  </tbody>\n",
              "</table>\n",
              "</div>\n",
              "      <button class=\"colab-df-convert\" onclick=\"convertToInteractive('df-8f47905b-54aa-434e-ad4f-d3bfc57fece3')\"\n",
              "              title=\"Convert this dataframe to an interactive table.\"\n",
              "              style=\"display:none;\">\n",
              "        \n",
              "  <svg xmlns=\"http://www.w3.org/2000/svg\" height=\"24px\"viewBox=\"0 0 24 24\"\n",
              "       width=\"24px\">\n",
              "    <path d=\"M0 0h24v24H0V0z\" fill=\"none\"/>\n",
              "    <path d=\"M18.56 5.44l.94 2.06.94-2.06 2.06-.94-2.06-.94-.94-2.06-.94 2.06-2.06.94zm-11 1L8.5 8.5l.94-2.06 2.06-.94-2.06-.94L8.5 2.5l-.94 2.06-2.06.94zm10 10l.94 2.06.94-2.06 2.06-.94-2.06-.94-.94-2.06-.94 2.06-2.06.94z\"/><path d=\"M17.41 7.96l-1.37-1.37c-.4-.4-.92-.59-1.43-.59-.52 0-1.04.2-1.43.59L10.3 9.45l-7.72 7.72c-.78.78-.78 2.05 0 2.83L4 21.41c.39.39.9.59 1.41.59.51 0 1.02-.2 1.41-.59l7.78-7.78 2.81-2.81c.8-.78.8-2.07 0-2.86zM5.41 20L4 18.59l7.72-7.72 1.47 1.35L5.41 20z\"/>\n",
              "  </svg>\n",
              "      </button>\n",
              "      \n",
              "  <style>\n",
              "    .colab-df-container {\n",
              "      display:flex;\n",
              "      flex-wrap:wrap;\n",
              "      gap: 12px;\n",
              "    }\n",
              "\n",
              "    .colab-df-convert {\n",
              "      background-color: #E8F0FE;\n",
              "      border: none;\n",
              "      border-radius: 50%;\n",
              "      cursor: pointer;\n",
              "      display: none;\n",
              "      fill: #1967D2;\n",
              "      height: 32px;\n",
              "      padding: 0 0 0 0;\n",
              "      width: 32px;\n",
              "    }\n",
              "\n",
              "    .colab-df-convert:hover {\n",
              "      background-color: #E2EBFA;\n",
              "      box-shadow: 0px 1px 2px rgba(60, 64, 67, 0.3), 0px 1px 3px 1px rgba(60, 64, 67, 0.15);\n",
              "      fill: #174EA6;\n",
              "    }\n",
              "\n",
              "    [theme=dark] .colab-df-convert {\n",
              "      background-color: #3B4455;\n",
              "      fill: #D2E3FC;\n",
              "    }\n",
              "\n",
              "    [theme=dark] .colab-df-convert:hover {\n",
              "      background-color: #434B5C;\n",
              "      box-shadow: 0px 1px 3px 1px rgba(0, 0, 0, 0.15);\n",
              "      filter: drop-shadow(0px 1px 2px rgba(0, 0, 0, 0.3));\n",
              "      fill: #FFFFFF;\n",
              "    }\n",
              "  </style>\n",
              "\n",
              "      <script>\n",
              "        const buttonEl =\n",
              "          document.querySelector('#df-8f47905b-54aa-434e-ad4f-d3bfc57fece3 button.colab-df-convert');\n",
              "        buttonEl.style.display =\n",
              "          google.colab.kernel.accessAllowed ? 'block' : 'none';\n",
              "\n",
              "        async function convertToInteractive(key) {\n",
              "          const element = document.querySelector('#df-8f47905b-54aa-434e-ad4f-d3bfc57fece3');\n",
              "          const dataTable =\n",
              "            await google.colab.kernel.invokeFunction('convertToInteractive',\n",
              "                                                     [key], {});\n",
              "          if (!dataTable) return;\n",
              "\n",
              "          const docLinkHtml = 'Like what you see? Visit the ' +\n",
              "            '<a target=\"_blank\" href=https://colab.research.google.com/notebooks/data_table.ipynb>data table notebook</a>'\n",
              "            + ' to learn more about interactive tables.';\n",
              "          element.innerHTML = '';\n",
              "          dataTable['output_type'] = 'display_data';\n",
              "          await google.colab.output.renderOutput(dataTable, element);\n",
              "          const docLink = document.createElement('div');\n",
              "          docLink.innerHTML = docLinkHtml;\n",
              "          element.appendChild(docLink);\n",
              "        }\n",
              "      </script>\n",
              "    </div>\n",
              "  </div>\n",
              "  "
            ]
          },
          "metadata": {},
          "execution_count": 38
        }
      ]
    }
  ]
}